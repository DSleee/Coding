{
 "cells": [
  {
   "cell_type": "code",
   "execution_count": 1,
   "metadata": {},
   "outputs": [
    {
     "name": "stdout",
     "output_type": "stream",
     "text": [
      "5\n",
      "11475\n"
     ]
    }
   ],
   "source": [
    "N = int(input())\n",
    "result = 0\n",
    "for i in range(1,N+1):\n",
    "    if i in [3,13,23]:\n",
    "        result += 3600\n",
    "    for j in range(1,61):\n",
    "        if j in [3,13,23,30,31,32,33,34,35,36,37,38,39,43,53]:\n",
    "            result += 60\n",
    "            continue\n",
    "        for k in range(1,61):\n",
    "            if k in [3,13,23,30,31,32,33,34,35,36,37,38,39,43,53]:\n",
    "                result += 1\n",
    "print(result)"
   ]
  }
 ],
 "metadata": {
  "kernelspec": {
   "display_name": "Python 3",
   "language": "python",
   "name": "python3"
  },
  "language_info": {
   "codemirror_mode": {
    "name": "ipython",
    "version": 3
   },
   "file_extension": ".py",
   "mimetype": "text/x-python",
   "name": "python",
   "nbconvert_exporter": "python",
   "pygments_lexer": "ipython3",
   "version": "3.6.5"
  }
 },
 "nbformat": 4,
 "nbformat_minor": 2
}
