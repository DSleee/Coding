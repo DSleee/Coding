{
 "cells": [
  {
   "cell_type": "code",
   "execution_count": 1,
   "metadata": {},
   "outputs": [
    {
     "name": "stdout",
     "output_type": "stream",
     "text": [
      "a4\n",
      "4\n"
     ]
    }
   ],
   "source": [
    "n = str(input())\n",
    "dict_ = {'a':1,'b':2,'c':3,'d':4,'e':5,'f':6,'g':7,'h':8}\n",
    "row = int(n[1])\n",
    "col = int(dict_[n[0]])\n",
    "result = 0\n",
    "if (row+2)<=8:\n",
    "    if (col - 1) >= 1:\n",
    "        result += 1\n",
    "    if (col + 1) <= 8:\n",
    "        result += 1\n",
    "if (row-2)>=1:\n",
    "    if (col - 1) >= 1:\n",
    "        result += 1\n",
    "    if (col + 1) <= 8:\n",
    "        result += 1\n",
    "if (col+2)<=8:\n",
    "    if (row - 1) >= 1:\n",
    "        result += 1\n",
    "    if (row + 1) <= 8:\n",
    "        result += 1\n",
    "if (col-2)>=1:\n",
    "    if (row - 1) >= 1:\n",
    "        result += 1\n",
    "    if (row + 1) <= 8:\n",
    "        result += 1\n",
    "print(result)\n",
    "      "
   ]
  }
 ],
 "metadata": {
  "kernelspec": {
   "display_name": "Python 3",
   "language": "python",
   "name": "python3"
  },
  "language_info": {
   "codemirror_mode": {
    "name": "ipython",
    "version": 3
   },
   "file_extension": ".py",
   "mimetype": "text/x-python",
   "name": "python",
   "nbconvert_exporter": "python",
   "pygments_lexer": "ipython3",
   "version": "3.6.5"
  }
 },
 "nbformat": 4,
 "nbformat_minor": 2
}
