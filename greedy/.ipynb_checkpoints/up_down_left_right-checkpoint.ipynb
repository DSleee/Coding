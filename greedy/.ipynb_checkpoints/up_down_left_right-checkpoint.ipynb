{
 "cells": [
  {
   "cell_type": "markdown",
   "metadata": {},
   "source": [
    "# DS answer"
   ]
  },
  {
   "cell_type": "code",
   "execution_count": 1,
   "metadata": {},
   "outputs": [
    {
     "name": "stdout",
     "output_type": "stream",
     "text": [
      "6\n",
      "L R R U D D\n",
      "3 3\n"
     ]
    }
   ],
   "source": [
    "N = int(input())\n",
    "direction = list(map(str,input().split()))\n",
    "result = [1,1]\n",
    "for i in range(len(direction)):\n",
    "    if direction[i]=='R' and result[1]+1 <=N:\n",
    "        result[1] = result[1] + 1\n",
    "    if direction[i]=='L' and result[1]-1 >=1:\n",
    "        result[1] = result[1] + 1\n",
    "    if direction[i]=='U' and result[0]-1 >=1:\n",
    "        result[0] = result[0] - 1\n",
    "    if direction[i]=='D' and result[0]+1 <=N:\n",
    "        result[0] = result[0] + 1\n",
    "print(result[0],result[1])"
   ]
  },
  {
   "cell_type": "markdown",
   "metadata": {},
   "source": [
    "# Book answer"
   ]
  },
  {
   "cell_type": "code",
   "execution_count": 2,
   "metadata": {},
   "outputs": [
    {
     "name": "stdout",
     "output_type": "stream",
     "text": [
      "6\n",
      "L R R U D D\n",
      "3 3\n"
     ]
    }
   ],
   "source": [
    "n = int(input())\n",
    "x,y = 1,1\n",
    "plans = input().split()\n",
    "dx = [0,0,-1,1]\n",
    "dy = [-1,1,0,0]\n",
    "move_types = ['L','R','U','D']\n",
    "for plan in plans:\n",
    "    for i in range(len(move_types)):\n",
    "        if plan == move_types[i]:\n",
    "            nx = x + dx[i]\n",
    "            ny = y + dy[i]\n",
    "    if nx < 1 or ny <1 or nx > n or ny > n:\n",
    "        continue\n",
    "    x,y = nx, ny\n",
    "print(x,y)"
   ]
  }
 ],
 "metadata": {
  "kernelspec": {
   "display_name": "Python 3",
   "language": "python",
   "name": "python3"
  },
  "language_info": {
   "codemirror_mode": {
    "name": "ipython",
    "version": 3
   },
   "file_extension": ".py",
   "mimetype": "text/x-python",
   "name": "python",
   "nbconvert_exporter": "python",
   "pygments_lexer": "ipython3",
   "version": "3.6.5"
  }
 },
 "nbformat": 4,
 "nbformat_minor": 2
}
