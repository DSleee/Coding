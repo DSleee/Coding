{
 "cells": [
  {
   "cell_type": "code",
   "execution_count": null,
   "metadata": {},
   "outputs": [],
   "source": [
    "n,m,k = map(int, input().split())\n",
    "data = list(map(int, input().split()))\n",
    "data.sort()\n",
    "\n",
    "sum = 0\n",
    "flag = 0\n",
    "for i in range(m):\n",
    "    if data[-1]==data[-2]:\n",
    "        sum += data[-1]\n",
    "    else:\n",
    "        if flag !=k:\n",
    "            sum += data[-1]\n",
    "            flag +=1\n",
    "        else:\n",
    "            sum += data[-2]\n",
    "            flag = 0\n",
    "print(sum) "
   ]
  }
 ],
 "metadata": {
  "kernelspec": {
   "display_name": "Python 3",
   "language": "python",
   "name": "python3"
  },
  "language_info": {
   "codemirror_mode": {
    "name": "ipython",
    "version": 3
   },
   "file_extension": ".py",
   "mimetype": "text/x-python",
   "name": "python",
   "nbconvert_exporter": "python",
   "pygments_lexer": "ipython3",
   "version": "3.6.5"
  }
 },
 "nbformat": 4,
 "nbformat_minor": 2
}
